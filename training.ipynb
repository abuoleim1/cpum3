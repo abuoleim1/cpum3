{
 "cells": [
  {
   "cell_type": "code",
   "execution_count": null,
   "id": "bc27f71b",
   "metadata": {},
   "outputs": [],
   "source": [
    "import torch\n",
    "import torch.nn as nn\n",
    "import torch.optim as optim\n",
    "from torch.utils.data import DataLoader\n",
    "from torchvision import transforms\n",
    "from src.dataloader import FER2013Dataset\n",
    "from src.const import device, batch_size\n",
    "import copy"
   ]
  },
  {
   "cell_type": "code",
   "execution_count": null,
   "id": "c5db124a",
   "metadata": {},
   "outputs": [],
   "source": [
    "from model.arch1 import CNN as CNN1\n",
    "from model.arch2 import CNN as CNN2\n",
    "from model.arch3 import CNN as CNN3"
   ]
  },
  {
   "cell_type": "code",
   "execution_count": 3,
   "id": "1f4c3955",
   "metadata": {},
   "outputs": [],
   "source": [
    "fer2013_csv_path = \"fer2013.csv\""
   ]
  },
  {
   "cell_type": "code",
   "execution_count": 4,
   "id": "fb1198c7",
   "metadata": {},
   "outputs": [
    {
     "name": "stderr",
     "output_type": "stream",
     "text": [
      "Transforming data: 100%|██████████| 28709/28709 [00:19<00:00, 1442.71it/s]\n"
     ]
    },
    {
     "name": "stdout",
     "output_type": "stream",
     "text": [
      "Dataset 'Training' class distribution:\n",
      "Class 0: 3995 samples\n",
      "Class 1: 436 samples\n",
      "Class 2: 4097 samples\n",
      "Class 3: 7215 samples\n",
      "Class 4: 4830 samples\n",
      "Class 5: 3171 samples\n",
      "Class 6: 4965 samples\n",
      "Total: 28709 samples\n"
     ]
    },
    {
     "name": "stderr",
     "output_type": "stream",
     "text": [
      "Transforming data: 100%|██████████| 3589/3589 [00:02<00:00, 1559.94it/s]"
     ]
    },
    {
     "name": "stdout",
     "output_type": "stream",
     "text": [
      "Dataset 'PublicTest' class distribution:\n",
      "Class 0: 467 samples\n",
      "Class 1: 56 samples\n",
      "Class 2: 496 samples\n",
      "Class 3: 895 samples\n",
      "Class 4: 653 samples\n",
      "Class 5: 415 samples\n",
      "Class 6: 607 samples\n",
      "Total: 3589 samples\n"
     ]
    },
    {
     "name": "stderr",
     "output_type": "stream",
     "text": [
      "\n"
     ]
    }
   ],
   "source": [
    "train_transform = transforms.Compose([\n",
    "    transforms.Resize((48, 48)),\n",
    "    transforms.RandomHorizontalFlip(),\n",
    "    transforms.ToTensor(),\n",
    "    transforms.Normalize(mean=[0.5], std=[0.5])\n",
    "])\n",
    "\n",
    "val_transform = transforms.Compose([\n",
    "    transforms.Resize((48, 48)),\n",
    "    transforms.ToTensor(),\n",
    "    transforms.Normalize(mean=[0.5], std=[0.5])\n",
    "])\n",
    "\n",
    "train_dataset = FER2013Dataset(csv_file=fer2013_csv_path, usage='Training', transform=train_transform)\n",
    "val_dataset = FER2013Dataset(csv_file=fer2013_csv_path, usage='PublicTest', transform=val_transform)\n",
    "\n",
    "train_loader = DataLoader(train_dataset, batch_size=batch_size, shuffle=True)\n",
    "val_loader = DataLoader(val_dataset, batch_size=batch_size, shuffle=False)"
   ]
  },
  {
   "cell_type": "code",
   "execution_count": null,
   "id": "4a165bd4",
   "metadata": {},
   "outputs": [
    {
     "name": "stdout",
     "output_type": "stream",
     "text": [
      "Dataset 'Training' class distribution:\n",
      "Class 0: 3995 samples\n",
      "Class 1: 436 samples\n",
      "Class 2: 4097 samples\n",
      "Class 3: 7215 samples\n",
      "Class 4: 4830 samples\n",
      "Class 5: 3171 samples\n",
      "Class 6: 4965 samples\n",
      "Total: 28709 samples\n"
     ]
    }
   ],
   "source": [
    "# Note: Dataset is imbalanced --> use weighted loss base on class distribution\n",
    "class_counts = []\n",
    "distribution = train_dataset.get_distribution()\n",
    "for i in range(len(distribution)):\n",
    "    class_counts.append(distribution[i])\n",
    "\n",
    "class_counts = torch.tensor(class_counts, dtype=torch.float)\n",
    "\n",
    "weights = 1.0 / class_counts\n",
    "weights = weights / weights.sum() * len(class_counts)  # Normalize to keep loss scale stable\n",
    "\n",
    "def train(model, num_epochs=25, patience=5):\n",
    "    criterion = nn.CrossEntropyLoss(weight=weights.to(device))\n",
    "    optimizer = optim.Adam(model.parameters(), lr=0.001)\n",
    "    \n",
    "    best_model_wts = copy.deepcopy(model.state_dict())\n",
    "    best_acc = 0.0\n",
    "    epochs_no_improve = 0\n",
    "\n",
    "    for epoch in range(num_epochs):\n",
    "        model.train()\n",
    "        running_loss = 0.0\n",
    "        for inputs, labels in train_loader:\n",
    "            optimizer.zero_grad()\n",
    "            outputs = model(inputs)\n",
    "            loss = criterion(outputs, labels)\n",
    "            loss.backward()\n",
    "            optimizer.step()\n",
    "\n",
    "            running_loss += loss.item()\n",
    "\n",
    "        avg_loss = running_loss / len(train_loader)\n",
    "\n",
    "        model.eval()\n",
    "        correct = 0\n",
    "        total = 0\n",
    "        with torch.no_grad():\n",
    "            for inputs, labels in val_loader:\n",
    "                outputs = model(inputs)\n",
    "                _, predicted = torch.max(outputs.data, 1)\n",
    "                total += labels.size(0)\n",
    "                correct += (predicted == labels).sum().item()\n",
    "        val_acc = 100 * correct / total\n",
    "\n",
    "        print(f\"Epoch [{epoch+1}/{num_epochs}], Loss: {avg_loss:.4f}, Val Accuracy: {val_acc:.2f}%\")\n",
    "\n",
    "        # Early stopping and choose the best model\n",
    "        if val_acc > best_acc:\n",
    "            best_acc = val_acc\n",
    "            best_model_wts = copy.deepcopy(model.state_dict())\n",
    "            epochs_no_improve = 0\n",
    "            torch.save(model.state_dict(), 'best_model.pth')\n",
    "        else:\n",
    "            epochs_no_improve += 1\n",
    "            if epochs_no_improve >= patience:\n",
    "                print(\"Early stopping triggered.\")\n",
    "                break\n",
    "\n",
    "    # Load best model weights\n",
    "    model.load_state_dict(best_model_wts)\n"
   ]
  },
  {
   "cell_type": "code",
   "execution_count": 16,
   "id": "6a094e4e",
   "metadata": {},
   "outputs": [],
   "source": [
    "model1 = CNN1(num_classes=7).to(device)\n",
    "model2 = CNN2(num_classes=7).to(device)\n",
    "model3 = CNN3(num_classes=7).to(device)"
   ]
  },
  {
   "cell_type": "code",
   "execution_count": 17,
   "id": "0fb00782",
   "metadata": {},
   "outputs": [
    {
     "name": "stdout",
     "output_type": "stream",
     "text": [
      "Epoch [1/25], Loss: 1.8331, Val Accuracy: 30.01%\n",
      "Epoch [2/25], Loss: 1.6723, Val Accuracy: 32.85%\n",
      "Epoch [3/25], Loss: 1.5759, Val Accuracy: 42.41%\n",
      "Epoch [4/25], Loss: 1.4960, Val Accuracy: 44.36%\n",
      "Epoch [5/25], Loss: 1.4371, Val Accuracy: 46.14%\n",
      "Epoch [6/25], Loss: 1.3854, Val Accuracy: 45.39%\n",
      "Epoch [7/25], Loss: 1.3313, Val Accuracy: 45.33%\n",
      "Epoch [8/25], Loss: 1.2945, Val Accuracy: 47.90%\n",
      "Epoch [9/25], Loss: 1.2579, Val Accuracy: 47.95%\n",
      "Epoch [10/25], Loss: 1.2326, Val Accuracy: 48.48%\n",
      "Epoch [11/25], Loss: 1.1935, Val Accuracy: 48.37%\n",
      "Epoch [12/25], Loss: 1.1724, Val Accuracy: 49.18%\n",
      "Epoch [13/25], Loss: 1.1522, Val Accuracy: 48.54%\n",
      "Epoch [14/25], Loss: 1.1175, Val Accuracy: 49.32%\n",
      "Epoch [15/25], Loss: 1.1107, Val Accuracy: 49.18%\n",
      "Epoch [16/25], Loss: 1.1033, Val Accuracy: 49.51%\n",
      "Epoch [17/25], Loss: 1.0693, Val Accuracy: 50.26%\n",
      "Epoch [18/25], Loss: 1.0442, Val Accuracy: 50.40%\n",
      "Epoch [19/25], Loss: 1.0403, Val Accuracy: 50.35%\n",
      "Epoch [20/25], Loss: 1.0250, Val Accuracy: 50.40%\n",
      "Epoch [21/25], Loss: 1.0001, Val Accuracy: 50.79%\n",
      "Epoch [22/25], Loss: 0.9918, Val Accuracy: 49.96%\n",
      "Epoch [23/25], Loss: 0.9697, Val Accuracy: 49.76%\n",
      "Epoch [24/25], Loss: 0.9728, Val Accuracy: 50.54%\n",
      "Epoch [25/25], Loss: 0.9328, Val Accuracy: 50.77%\n"
     ]
    }
   ],
   "source": [
    "train(model1, num_epochs=25)"
   ]
  },
  {
   "cell_type": "code",
   "execution_count": 19,
   "id": "a2840575",
   "metadata": {},
   "outputs": [
    {
     "name": "stdout",
     "output_type": "stream",
     "text": [
      "Epoch [1/25], Loss: 1.2482, Val Accuracy: 52.05%\n",
      "Epoch [2/25], Loss: 1.1477, Val Accuracy: 54.58%\n",
      "Epoch [3/25], Loss: 1.0366, Val Accuracy: 55.08%\n",
      "Epoch [4/25], Loss: 0.9520, Val Accuracy: 56.37%\n",
      "Epoch [5/25], Loss: 0.8589, Val Accuracy: 58.48%\n",
      "Epoch [6/25], Loss: 0.7577, Val Accuracy: 58.46%\n",
      "Epoch [7/25], Loss: 0.6752, Val Accuracy: 59.65%\n",
      "Epoch [8/25], Loss: 0.5835, Val Accuracy: 59.40%\n",
      "Epoch [9/25], Loss: 0.5178, Val Accuracy: 58.04%\n",
      "Epoch [10/25], Loss: 0.4439, Val Accuracy: 59.60%\n",
      "Epoch [11/25], Loss: 0.3856, Val Accuracy: 60.16%\n",
      "Epoch [12/25], Loss: 0.3212, Val Accuracy: 58.43%\n",
      "Epoch [13/25], Loss: 0.2795, Val Accuracy: 59.57%\n",
      "Epoch [14/25], Loss: 0.2789, Val Accuracy: 59.71%\n",
      "Epoch [15/25], Loss: 0.2408, Val Accuracy: 59.74%\n",
      "Epoch [16/25], Loss: 0.2143, Val Accuracy: 58.71%\n",
      "Early stopping triggered.\n"
     ]
    }
   ],
   "source": [
    "train(model2, num_epochs=25)"
   ]
  },
  {
   "cell_type": "code",
   "execution_count": 20,
   "id": "ca9f34ca",
   "metadata": {},
   "outputs": [
    {
     "name": "stdout",
     "output_type": "stream",
     "text": [
      "Epoch [1/25], Loss: 1.8932, Val Accuracy: 26.41%\n",
      "Epoch [2/25], Loss: 1.6627, Val Accuracy: 34.91%\n",
      "Epoch [3/25], Loss: 1.4437, Val Accuracy: 45.70%\n",
      "Epoch [4/25], Loss: 1.2988, Val Accuracy: 48.29%\n",
      "Epoch [5/25], Loss: 1.1773, Val Accuracy: 52.13%\n",
      "Epoch [6/25], Loss: 1.0699, Val Accuracy: 55.45%\n",
      "Epoch [7/25], Loss: 0.9799, Val Accuracy: 57.12%\n",
      "Epoch [8/25], Loss: 0.8971, Val Accuracy: 58.46%\n",
      "Epoch [9/25], Loss: 0.7890, Val Accuracy: 59.71%\n",
      "Epoch [10/25], Loss: 0.7385, Val Accuracy: 60.35%\n",
      "Epoch [11/25], Loss: 0.6467, Val Accuracy: 61.33%\n",
      "Epoch [12/25], Loss: 0.5576, Val Accuracy: 59.77%\n",
      "Epoch [13/25], Loss: 0.4561, Val Accuracy: 60.24%\n",
      "Epoch [14/25], Loss: 0.3631, Val Accuracy: 59.85%\n",
      "Epoch [15/25], Loss: 0.2745, Val Accuracy: 59.68%\n",
      "Epoch [16/25], Loss: 0.2056, Val Accuracy: 58.60%\n",
      "Early stopping triggered.\n"
     ]
    }
   ],
   "source": [
    "train(model3, num_epochs=25)"
   ]
  }
 ],
 "metadata": {
  "kernelspec": {
   "display_name": "thinhng",
   "language": "python",
   "name": "python3"
  },
  "language_info": {
   "codemirror_mode": {
    "name": "ipython",
    "version": 3
   },
   "file_extension": ".py",
   "mimetype": "text/x-python",
   "name": "python",
   "nbconvert_exporter": "python",
   "pygments_lexer": "ipython3",
   "version": "3.9.21"
  }
 },
 "nbformat": 4,
 "nbformat_minor": 5
}
